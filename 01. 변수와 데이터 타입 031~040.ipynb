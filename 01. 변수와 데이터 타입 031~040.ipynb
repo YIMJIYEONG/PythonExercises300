{
 "cells": [
  {
   "cell_type": "markdown",
   "metadata": {},
   "source": [
    "#### 031\n",
    "사용자로부터 파일명을 입력받은 후 확장자만 출력하는 프로그램을 작성하라.  \n",
    "\n",
    "``` 실행 예:\n",
    "filename : report.docx\n",
    "docx\n",
    "```"
   ]
  },
  {
   "cell_type": "code",
   "execution_count": 1,
   "metadata": {},
   "outputs": [
    {
     "name": "stdout",
     "output_type": "stream",
     "text": [
      "filename : report.docx\n",
      "docx\n"
     ]
    }
   ],
   "source": [
    "file_name = input(\"filename : \")\n",
    "ext = file_name.split('.')\n",
    "print(ext[-1])"
   ]
  },
  {
   "cell_type": "markdown",
   "metadata": {},
   "source": [
    "#### 032\n",
    "다음 문자열에서 'python' 문자열의 빈도수를 출력하라.  \n",
    "```introduce = \"python is widely used high-level language. python was conceived in the late 1980s\"```"
   ]
  },
  {
   "cell_type": "code",
   "execution_count": 7,
   "metadata": {},
   "outputs": [
    {
     "name": "stdout",
     "output_type": "stream",
     "text": [
      "2\n"
     ]
    }
   ],
   "source": [
    "introduce = \"python is widely used high-level language. python was conceived in the late 1980s\"\n",
    "cnt = introduce.count('python')\n",
    "print(cnt)"
   ]
  },
  {
   "cell_type": "markdown",
   "metadata": {},
   "source": [
    "#### 033\n",
    "입력된 영어 단어에 대해 소문자로 변환하여 출력하라. (힌트:lower 메소드 사용)\n",
    "```실행 예:\n",
    "input: Python\n",
    "python```"
   ]
  },
  {
   "cell_type": "code",
   "execution_count": 6,
   "metadata": {},
   "outputs": [
    {
     "name": "stdout",
     "output_type": "stream",
     "text": [
      "word : Python\n",
      "python\n"
     ]
    }
   ],
   "source": [
    "word = input(\"word : \")\n",
    "lower_word = word.lower()\n",
    "print(lower_word)"
   ]
  },
  {
   "cell_type": "markdown",
   "metadata": {},
   "source": [
    "#### 034\n",
    "mystr이 바인딩하는 문자열을 예시와 같이 0을 채워 출력하라.(힌트:zfill메소드 사용)  \n",
    "```실행 예:\n",
    "00013\n",
    "```"
   ]
  },
  {
   "cell_type": "code",
   "execution_count": 8,
   "metadata": {},
   "outputs": [
    {
     "name": "stdout",
     "output_type": "stream",
     "text": [
      "00013\n"
     ]
    }
   ],
   "source": [
    "mystr = \"13\"\n",
    "print(mystr.zfill(5))"
   ]
  },
  {
   "cell_type": "markdown",
   "metadata": {},
   "source": [
    "#### 035\n",
    "다음 문자열에서 ...를 제거하라.  \n",
    "```mystr = \"a man goes into the room...\"\n",
    "실행 예:\n",
    "a man goes into the room\n",
    "```"
   ]
  },
  {
   "cell_type": "code",
   "execution_count": 9,
   "metadata": {},
   "outputs": [
    {
     "name": "stdout",
     "output_type": "stream",
     "text": [
      "a man goes into the room\n"
     ]
    }
   ],
   "source": [
    "mystr = \"a man goes into the room...\"\n",
    "print(mystr.replace('...', ''))"
   ]
  },
  {
   "cell_type": "code",
   "execution_count": 10,
   "metadata": {},
   "outputs": [
    {
     "name": "stdout",
     "output_type": "stream",
     "text": [
      "a man goes into the room\n"
     ]
    }
   ],
   "source": [
    "print(mystr.strip(\"...\"))"
   ]
  },
  {
   "cell_type": "markdown",
   "metadata": {},
   "source": [
    "#### 036\n",
    "다음 코드의 결과를 예상해보고 에러가 발생한 이유를 설명하라.\n",
    "```t = 'python'\n",
    "t[100]\n",
    "Traceback (most recent call last):\n",
    "File \"<pyshell#339>\", line1, in <module>\n",
    "t[100]\n",
    "IndexError: string index out of range\n",
    "```"
   ]
  },
  {
   "cell_type": "code",
   "execution_count": null,
   "metadata": {},
   "outputs": [],
   "source": [
    "# t 문자열에는 100번째 문자가 없다."
   ]
  },
  {
   "cell_type": "markdown",
   "metadata": {},
   "source": [
    "#### 037\n",
    "사용자로부터 윈도우 디렉터리 경로를 입력받은 후 가장 최종 디렉터리를 출력하라.  \n",
    "```실행 예:\n",
    "경로 : c:\\\\program files\\\\python\n",
    "python\n",
    "```"
   ]
  },
  {
   "cell_type": "code",
   "execution_count": 12,
   "metadata": {},
   "outputs": [
    {
     "name": "stdout",
     "output_type": "stream",
     "text": [
      "directory : c:\\\\program files\\\\python\n",
      "python\n"
     ]
    }
   ],
   "source": [
    "directory = input(\"directory : \")\n",
    "direc = directory.split('\\\\')\n",
    "print(direc[-1])"
   ]
  },
  {
   "cell_type": "markdown",
   "metadata": {},
   "source": [
    "#### 038\n",
    "'spam egg' 문자열을 'egg spam'으로 변경하라"
   ]
  },
  {
   "cell_type": "code",
   "execution_count": 13,
   "metadata": {},
   "outputs": [
    {
     "name": "stdout",
     "output_type": "stream",
     "text": [
      "egg spam\n"
     ]
    }
   ],
   "source": [
    "spam_egg = 'spam egg'\n",
    "se = spam_egg.split(' ')\n",
    "print(se[1], se[0])"
   ]
  },
  {
   "cell_type": "markdown",
   "metadata": {},
   "source": [
    "#### 039\n",
    "'Python pyton pYthon java Java'에서 대소문자를 구분하지 않고 사용된 python 문자열의 개수를 출력하라."
   ]
  },
  {
   "cell_type": "code",
   "execution_count": 14,
   "metadata": {},
   "outputs": [
    {
     "name": "stdout",
     "output_type": "stream",
     "text": [
      "3\n"
     ]
    }
   ],
   "source": [
    "string = 'Python python pYthon java Java'\n",
    "print(string.lower().count('python'))"
   ]
  },
  {
   "cell_type": "markdown",
   "metadata": {},
   "source": [
    "#### 040\n",
    "사용자로부터 '10:00:01'와 같은 형태로 시간을 입력받은 후 해당 시간이 00:00:00으로부터 몇초가 지났는지를 출력하라."
   ]
  },
  {
   "cell_type": "code",
   "execution_count": 17,
   "metadata": {},
   "outputs": [
    {
     "name": "stdout",
     "output_type": "stream",
     "text": [
      "time : 10:00:01\n",
      "36001\n"
     ]
    }
   ],
   "source": [
    "in_time = input(\"time : \")\n",
    "time = in_time.split(':')\n",
    "hour = int(time[0])\n",
    "min = int(time[1])\n",
    "sec = int(time[2])\n",
    "sec = hour*3600 + min*60 + sec\n",
    "print(sec)"
   ]
  }
 ],
 "metadata": {
  "kernelspec": {
   "display_name": "Python 3",
   "language": "python",
   "name": "python3"
  },
  "language_info": {
   "codemirror_mode": {
    "name": "ipython",
    "version": 3
   },
   "file_extension": ".py",
   "mimetype": "text/x-python",
   "name": "python",
   "nbconvert_exporter": "python",
   "pygments_lexer": "ipython3",
   "version": "3.7.4"
  }
 },
 "nbformat": 4,
 "nbformat_minor": 2
}
