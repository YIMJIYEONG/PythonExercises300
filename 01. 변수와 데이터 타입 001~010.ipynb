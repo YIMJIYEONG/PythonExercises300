{
 "cells": [
  {
   "cell_type": "markdown",
   "metadata": {},
   "source": [
    "#### 001\n",
    "화면에 Hello World 문자열을 출력하라."
   ]
  },
  {
   "cell_type": "code",
   "execution_count": 1,
   "metadata": {},
   "outputs": [
    {
     "name": "stdout",
     "output_type": "stream",
     "text": [
      "Hello World\n"
     ]
    }
   ],
   "source": [
    "# 001\n",
    "print('Hello World')"
   ]
  },
  {
   "cell_type": "markdown",
   "metadata": {},
   "source": [
    "#### 002\n",
    "화면에 Mary's cosmetics을 출력하라. (중간에 '가 있음에 주의.)"
   ]
  },
  {
   "cell_type": "code",
   "execution_count": 3,
   "metadata": {},
   "outputs": [
    {
     "name": "stdout",
     "output_type": "stream",
     "text": [
      "Mary 's cosmetics\n"
     ]
    }
   ],
   "source": [
    "# 002\n",
    "print('Mary \\'s cosmetics')"
   ]
  },
  {
   "cell_type": "markdown",
   "metadata": {},
   "source": [
    "#### 003\n",
    "화면에 아래 문장을 출력하라. (중간에 \"가 있음에 주의.)  \n",
    "신씨가 소리질렀다. \"도둑이야\"."
   ]
  },
  {
   "cell_type": "code",
   "execution_count": 4,
   "metadata": {},
   "outputs": [
    {
     "name": "stdout",
     "output_type": "stream",
     "text": [
      "신씨가 소리질렀다. \"도둑이야\".\n"
     ]
    }
   ],
   "source": [
    "# 003\n",
    "print('신씨가 소리질렀다. \\\"도둑이야\\\".')"
   ]
  },
  {
   "cell_type": "markdown",
   "metadata": {},
   "source": [
    "#### 004\n",
    "화면에 \"C:\\Windows\"를 출력하라."
   ]
  },
  {
   "cell_type": "code",
   "execution_count": 6,
   "metadata": {},
   "outputs": [
    {
     "name": "stdout",
     "output_type": "stream",
     "text": [
      "\"C:\\Windows\"\n"
     ]
    }
   ],
   "source": [
    "# 004\n",
    "print('\\\"C:\\\\Windows\\\"')"
   ]
  },
  {
   "cell_type": "markdown",
   "metadata": {},
   "source": [
    "#### 005\n",
    "다음 코드를 실행해보고 \\t와 \\n의 역할을 설명하라.  \n",
    "```\n",
    "print(\"안녕하세요.\\n만나서\\t\\t반갑습니다.\")\n",
    "```"
   ]
  },
  {
   "cell_type": "code",
   "execution_count": 8,
   "metadata": {},
   "outputs": [
    {
     "name": "stdout",
     "output_type": "stream",
     "text": [
      "안녕하세요.\n",
      "만나서\t\t반갑습니다.\n"
     ]
    }
   ],
   "source": [
    "# 005\n",
    "print(\"안녕하세요.\\n만나서\\t\\t반갑습니다.\")\n",
    "# \\n은 엔터역할\n",
    "# \\t은 탭역할"
   ]
  },
  {
   "cell_type": "markdown",
   "metadata": {},
   "source": [
    "#### 006\n",
    "print 함수에 두개의 단어를 입력한 예제이다. 아래 코드의 출력 결과를 예상하라.  \n",
    "```\n",
    "print('오늘은', '일요일')\n",
    "```"
   ]
  },
  {
   "cell_type": "code",
   "execution_count": 9,
   "metadata": {},
   "outputs": [
    {
     "name": "stdout",
     "output_type": "stream",
     "text": [
      "오늘은 일요일\n"
     ]
    }
   ],
   "source": [
    "# 006\n",
    "print(\"오늘은\", \"일요일\")"
   ]
  },
  {
   "cell_type": "markdown",
   "metadata": {},
   "source": [
    "#### 007\n",
    "print() 함수를 사용하여 다음과 같이 출력하라.  \n",
    "naver;kakao;sk;samsung"
   ]
  },
  {
   "cell_type": "code",
   "execution_count": 12,
   "metadata": {},
   "outputs": [
    {
     "name": "stdout",
     "output_type": "stream",
     "text": [
      "naver;kakao;sk;samsung\n"
     ]
    }
   ],
   "source": [
    "# 007\n",
    "print('naver', 'kakao', 'sk', 'samsung', sep=';')"
   ]
  },
  {
   "cell_type": "markdown",
   "metadata": {},
   "source": [
    "#### 008\n",
    "print() 함수를 사용하여 다음과 같이 출력하라.  \n",
    "naver/kakao/sk/samsung"
   ]
  },
  {
   "cell_type": "code",
   "execution_count": 13,
   "metadata": {},
   "outputs": [
    {
     "name": "stdout",
     "output_type": "stream",
     "text": [
      "naver/kakao/sk/samsung\n"
     ]
    }
   ],
   "source": [
    "# 008\n",
    "print('naver', 'kakao', 'sk', 'samsung', sep='/')"
   ]
  },
  {
   "cell_type": "markdown",
   "metadata": {},
   "source": [
    "#### 009\n",
    "다음 코드를 수정하여 줄바꿈이 없이 출력되도록 하라. (힌트: end='') print 함수는 두 번 사용한다. 세미콜론 (;)은 한줄에 여러 개의 명령을 작성하기 위해 사용된다.\n",
    "```\n",
    "print(\"first\");print(\"second\")\n",
    "```"
   ]
  },
  {
   "cell_type": "code",
   "execution_count": 17,
   "metadata": {},
   "outputs": [
    {
     "name": "stdout",
     "output_type": "stream",
     "text": [
      "first second\n"
     ]
    }
   ],
   "source": [
    "# 009\n",
    "print(\"first\", end=\" \");print(\"second\")"
   ]
  },
  {
   "cell_type": "markdown",
   "metadata": {},
   "source": [
    "#### 010\n",
    "string 문자열의 길이를 구하여라.\n",
    "```\n",
    "string = \"dk2jd923i1jdk2jd93jfd92jd918943jfd8923\"\n",
    "```"
   ]
  },
  {
   "cell_type": "code",
   "execution_count": 16,
   "metadata": {},
   "outputs": [
    {
     "data": {
      "text/plain": [
       "38"
      ]
     },
     "execution_count": 16,
     "metadata": {},
     "output_type": "execute_result"
    }
   ],
   "source": [
    "# 010\n",
    "string = \"dk2jd923i1jdk2jd93jfd92jd918943jfd8923\"\n",
    "len(string)"
   ]
  }
 ],
 "metadata": {
  "kernelspec": {
   "display_name": "Python 3",
   "language": "python",
   "name": "python3"
  },
  "language_info": {
   "codemirror_mode": {
    "name": "ipython",
    "version": 3
   },
   "file_extension": ".py",
   "mimetype": "text/x-python",
   "name": "python",
   "nbconvert_exporter": "python",
   "pygments_lexer": "ipython3",
   "version": "3.7.4"
  }
 },
 "nbformat": 4,
 "nbformat_minor": 2
}
